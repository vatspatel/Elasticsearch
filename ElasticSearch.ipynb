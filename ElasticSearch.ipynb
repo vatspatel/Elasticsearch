{
 "cells": [
  {
   "cell_type": "markdown",
   "metadata": {},
   "source": [
    "# ElasticSearch Workshop\n",
    "Hosted by Amine M. Boulouma, contact and questions: [amine.boulouma.com](https://amine.boulouma.com)\n",
    "- [ElasticSearch installation](https://www.elastic.co/guide/en/apm/get-started/current/install-elasticsearch.html)\n",
    "- [ElasticSearch python client](https://elasticsearch-py.readthedocs.io/en/master/)"
   ]
  },
  {
   "cell_type": "markdown",
   "metadata": {},
   "source": [
    "## Installing python client\n",
    "\n",
    "```pip install elasticsearch```"
   ]
  },
  {
   "cell_type": "markdown",
   "metadata": {},
   "source": [
    "### Importing packages"
   ]
  },
  {
   "cell_type": "code",
   "execution_count": 1,
   "metadata": {},
   "outputs": [],
   "source": [
    "# Import packages\n",
    "\n",
    "from elasticsearch import Elasticsearch"
   ]
  },
  {
   "cell_type": "markdown",
   "metadata": {},
   "source": [
    "### Configurating ElasticSearch"
   ]
  },
  {
   "cell_type": "code",
   "execution_count": 2,
   "metadata": {},
   "outputs": [],
   "source": [
    "# Elastic search configuation\n",
    "\n",
    "es = Elasticsearch(HOST=\"http://localhost\", PORT=9200)\n",
    "es = Elasticsearch()"
   ]
  },
  {
   "cell_type": "markdown",
   "metadata": {},
   "source": [
    "### Creating an index"
   ]
  },
  {
   "cell_type": "code",
   "execution_count": 3,
   "metadata": {},
   "outputs": [
    {
     "data": {
      "text/plain": [
       "{'acknowledged': True, 'shards_acknowledged': True, 'index': 'first_index'}"
      ]
     },
     "execution_count": 3,
     "metadata": {},
     "output_type": "execute_result"
    }
   ],
   "source": [
    "# Creating index\n",
    "\n",
    "es.indices.create(index=\"first_index\")"
   ]
  },
  {
   "cell_type": "code",
   "execution_count": 4,
   "metadata": {
    "scrolled": true
   },
   "outputs": [
    {
     "data": {
      "text/plain": [
       "True"
      ]
     },
     "execution_count": 4,
     "metadata": {},
     "output_type": "execute_result"
    }
   ],
   "source": [
    "# Looking if the index exists\n",
    "\n",
    "es.indices.exists(index=\"first_index\")"
   ]
  },
  {
   "cell_type": "markdown",
   "metadata": {},
   "source": [
    "### Deleting an index"
   ]
  },
  {
   "cell_type": "code",
   "execution_count": 5,
   "metadata": {},
   "outputs": [
    {
     "data": {
      "text/plain": [
       "{'acknowledged': True}"
      ]
     },
     "execution_count": 5,
     "metadata": {},
     "output_type": "execute_result"
    }
   ],
   "source": [
    "# Delete index\n",
    "\n",
    "es.indices.delete(index=\"first_index\")"
   ]
  },
  {
   "cell_type": "code",
   "execution_count": 6,
   "metadata": {},
   "outputs": [
    {
     "data": {
      "text/plain": [
       "False"
      ]
     },
     "execution_count": 6,
     "metadata": {},
     "output_type": "execute_result"
    }
   ],
   "source": [
    "es.indices.exists(index=\"first_index\")"
   ]
  },
  {
   "cell_type": "markdown",
   "metadata": {},
   "source": [
    "### Inserting and getting data"
   ]
  },
  {
   "cell_type": "code",
   "execution_count": 7,
   "metadata": {
    "scrolled": true
   },
   "outputs": [
    {
     "data": {
      "text/plain": [
       "{'_index': 'cities',\n",
       " '_type': 'places',\n",
       " '_id': '1',\n",
       " '_version': 2,\n",
       " 'result': 'updated',\n",
       " '_shards': {'total': 2, 'successful': 1, 'failed': 0},\n",
       " '_seq_no': 6,\n",
       " '_primary_term': 1}"
      ]
     },
     "execution_count": 7,
     "metadata": {},
     "output_type": "execute_result"
    }
   ],
   "source": [
    "# Inserting data\n",
    "\n",
    "doc_1 = {\"city\": \"Paris\", \"country\": \"France\"}\n",
    "doc_2 = {\"city\": \"Vienna\", \"country\": \"Austria\"}\n",
    "doc_3 = {\"city\": \"London\", \"country\": \"England\"}\n",
    "\n",
    "es.index(index=\"cities\", doc_type=\"places\", id=1, body=doc_1)"
   ]
  },
  {
   "cell_type": "code",
   "execution_count": 8,
   "metadata": {},
   "outputs": [
    {
     "data": {
      "text/plain": [
       "{'_index': 'cities',\n",
       " '_type': 'places',\n",
       " '_id': '2',\n",
       " '_version': 3,\n",
       " 'result': 'updated',\n",
       " '_shards': {'total': 2, 'successful': 1, 'failed': 0},\n",
       " '_seq_no': 7,\n",
       " '_primary_term': 1}"
      ]
     },
     "execution_count": 8,
     "metadata": {},
     "output_type": "execute_result"
    }
   ],
   "source": [
    "es.index(index=\"cities\", doc_type=\"places\", id=2, body=doc_2)"
   ]
  },
  {
   "cell_type": "code",
   "execution_count": 9,
   "metadata": {},
   "outputs": [
    {
     "data": {
      "text/plain": [
       "{'_index': 'cities',\n",
       " '_type': 'places',\n",
       " '_id': '3',\n",
       " '_version': 4,\n",
       " 'result': 'updated',\n",
       " '_shards': {'total': 2, 'successful': 1, 'failed': 0},\n",
       " '_seq_no': 8,\n",
       " '_primary_term': 1}"
      ]
     },
     "execution_count": 9,
     "metadata": {},
     "output_type": "execute_result"
    }
   ],
   "source": [
    "es.index(index=\"cities\", doc_type=\"places\", id=3, body=doc_3)"
   ]
  },
  {
   "cell_type": "code",
   "execution_count": 10,
   "metadata": {},
   "outputs": [
    {
     "data": {
      "text/plain": [
       "{'_index': 'cities',\n",
       " '_type': 'places',\n",
       " '_id': '1',\n",
       " '_version': 2,\n",
       " '_seq_no': 6,\n",
       " '_primary_term': 1,\n",
       " 'found': True,\n",
       " '_source': {'city': 'Paris', 'country': 'France'}}"
      ]
     },
     "execution_count": 10,
     "metadata": {},
     "output_type": "execute_result"
    }
   ],
   "source": [
    "# Getting the data\n",
    "\n",
    "res = es.get(index=\"cities\", doc_type=\"places\", id=1)\n",
    "\n",
    "res"
   ]
  },
  {
   "cell_type": "code",
   "execution_count": 11,
   "metadata": {},
   "outputs": [
    {
     "data": {
      "text/plain": [
       "{'city': 'Paris', 'country': 'France'}"
      ]
     },
     "execution_count": 11,
     "metadata": {},
     "output_type": "execute_result"
    }
   ],
   "source": [
    "# Get the data which is present in the _source key\n",
    "\n",
    "res[\"_source\"]"
   ]
  },
  {
   "cell_type": "markdown",
   "metadata": {},
   "source": [
    "### Search query and matching documents"
   ]
  },
  {
   "cell_type": "code",
   "execution_count": 12,
   "metadata": {},
   "outputs": [
    {
     "data": {
      "text/plain": [
       "{'_index': 'english',\n",
       " '_type': 'sentences',\n",
       " '_id': '2',\n",
       " '_version': 9,\n",
       " 'result': 'updated',\n",
       " '_shards': {'total': 2, 'successful': 1, 'failed': 0},\n",
       " '_seq_no': 18,\n",
       " '_primary_term': 1}"
      ]
     },
     "execution_count": 12,
     "metadata": {},
     "output_type": "execute_result"
    }
   ],
   "source": [
    "# Creating our data\n",
    "\n",
    "doc_1 = {\"sentence\":\"Hack COVID-19 is amazing!\"}\n",
    "doc_2 = {\"sentence\":\"Hack-Quarantine is stunning!\"}\n",
    "\n",
    "es.index(index=\"english\", doc_type=\"sentences\", id=1, body=doc_1)\n",
    "es.index(index=\"english\", doc_type=\"sentences\", id=2, body=doc_2)"
   ]
  },
  {
   "cell_type": "code",
   "execution_count": 13,
   "metadata": {},
   "outputs": [
    {
     "data": {
      "text/plain": [
       "{'took': 2,\n",
       " 'timed_out': False,\n",
       " '_shards': {'total': 1, 'successful': 1, 'skipped': 0, 'failed': 0},\n",
       " 'hits': {'total': {'value': 3, 'relation': 'eq'},\n",
       "  'max_score': None,\n",
       "  'hits': []}}"
      ]
     },
     "execution_count": 13,
     "metadata": {},
     "output_type": "execute_result"
    }
   ],
   "source": [
    "# Creating our query\n",
    "\n",
    "## Match query \n",
    "\n",
    "body = {\n",
    "    \"from\":0,\n",
    "    \"size\":0,\n",
    "    \"query\": {\n",
    "        \"match\": {\n",
    "            \"sentence\":\"Hack\"\n",
    "        }\n",
    "    }\n",
    "}\n",
    "\n",
    "res = es.search(index=\"english\", body=body)\n",
    "res"
   ]
  },
  {
   "cell_type": "code",
   "execution_count": 14,
   "metadata": {},
   "outputs": [
    {
     "data": {
      "text/plain": [
       "{'took': 2,\n",
       " 'timed_out': False,\n",
       " '_shards': {'total': 1, 'successful': 1, 'skipped': 0, 'failed': 0},\n",
       " 'hits': {'total': {'value': 3, 'relation': 'eq'},\n",
       "  'max_score': 0.13786995,\n",
       "  'hits': [{'_index': 'english',\n",
       "    '_type': 'sentences',\n",
       "    '_id': '2',\n",
       "    '_score': 0.13786995,\n",
       "    '_source': {'sentence': 'Hack-Quarantine is stunning!'}},\n",
       "   {'_index': 'english',\n",
       "    '_type': 'sentences',\n",
       "    '_id': '3',\n",
       "    '_score': 0.13786995,\n",
       "    '_source': {'sentence': 'Hack nCov is great!'}}]}}"
      ]
     },
     "execution_count": 14,
     "metadata": {},
     "output_type": "execute_result"
    }
   ],
   "source": [
    "body = {\n",
    "    \"from\":0,\n",
    "    \"size\":2,\n",
    "    \"query\": {\n",
    "        \"match\": {\n",
    "            \"sentence\":\"Hack\"\n",
    "        }\n",
    "    }\n",
    "}\n",
    "\n",
    "res = es.search(index=\"english\", body=body)\n",
    "res"
   ]
  },
  {
   "cell_type": "code",
   "execution_count": 15,
   "metadata": {},
   "outputs": [
    {
     "data": {
      "text/plain": [
       "{'took': 3,\n",
       " 'timed_out': False,\n",
       " '_shards': {'total': 1, 'successful': 1, 'skipped': 0, 'failed': 0},\n",
       " 'hits': {'total': {'value': 3, 'relation': 'eq'},\n",
       "  'max_score': 1.1505672,\n",
       "  'hits': [{'_index': 'english',\n",
       "    '_type': 'sentences',\n",
       "    '_id': '2',\n",
       "    '_score': 1.1505672,\n",
       "    '_source': {'sentence': 'Hack-Quarantine is stunning!'}},\n",
       "   {'_index': 'english',\n",
       "    '_type': 'sentences',\n",
       "    '_id': '3',\n",
       "    '_score': 0.13786995,\n",
       "    '_source': {'sentence': 'Hack nCov is great!'}}]}}"
      ]
     },
     "execution_count": 15,
     "metadata": {},
     "output_type": "execute_result"
    }
   ],
   "source": [
    "body = {\n",
    "    \"from\":0,\n",
    "    \"size\":2,\n",
    "    \"query\": {\n",
    "        \"match\": {\n",
    "            \"sentence\":\"Hack Quarantine\"\n",
    "        }\n",
    "    }\n",
    "}\n",
    "\n",
    "res = es.search(index=\"english\", body=body)\n",
    "res"
   ]
  },
  {
   "cell_type": "code",
   "execution_count": 16,
   "metadata": {
    "scrolled": true
   },
   "outputs": [
    {
     "data": {
      "text/plain": [
       "{'took': 2,\n",
       " 'timed_out': False,\n",
       " '_shards': {'total': 1, 'successful': 1, 'skipped': 0, 'failed': 0},\n",
       " 'hits': {'total': {'value': 1, 'relation': 'eq'},\n",
       "  'max_score': 1.1505672,\n",
       "  'hits': [{'_index': 'english',\n",
       "    '_type': 'sentences',\n",
       "    '_id': '2',\n",
       "    '_score': 1.1505672,\n",
       "    '_source': {'sentence': 'Hack-Quarantine is stunning!'}}]}}"
      ]
     },
     "execution_count": 16,
     "metadata": {},
     "output_type": "execute_result"
    }
   ],
   "source": [
    "# match_phrase \n",
    "\n",
    "body = {\n",
    "    \"from\":0,\n",
    "    \"size\":1,\n",
    "    \"query\": {\n",
    "        \"match_phrase\": {\n",
    "            \"sentence\":\"Hack Quarantine\"\n",
    "        }\n",
    "    }\n",
    "}\n",
    "\n",
    "res = es.search(index=\"english\", body=body)\n",
    "res"
   ]
  },
  {
   "cell_type": "markdown",
   "metadata": {},
   "source": [
    "### Combining queries"
   ]
  },
  {
   "cell_type": "code",
   "execution_count": 17,
   "metadata": {
    "scrolled": true
   },
   "outputs": [
    {
     "data": {
      "text/plain": [
       "{'took': 2,\n",
       " 'timed_out': False,\n",
       " '_shards': {'total': 1, 'successful': 1, 'skipped': 0, 'failed': 0},\n",
       " 'hits': {'total': {'value': 2, 'relation': 'eq'},\n",
       "  'max_score': 0.13786995,\n",
       "  'hits': [{'_index': 'english',\n",
       "    '_type': 'sentences',\n",
       "    '_id': '2',\n",
       "    '_score': 0.13786995,\n",
       "    '_source': {'sentence': 'Hack-Quarantine is stunning!'}},\n",
       "   {'_index': 'english',\n",
       "    '_type': 'sentences',\n",
       "    '_id': '3',\n",
       "    '_score': 0.13786995,\n",
       "    '_source': {'sentence': 'Hack nCov is great!'}}]}}"
      ]
     },
     "execution_count": 17,
     "metadata": {},
     "output_type": "execute_result"
    }
   ],
   "source": [
    "# must, must_not and should\n",
    " \n",
    "body = {\n",
    "    \"from\":0,\n",
    "    \"size\":2,\n",
    "    \"query\": {\n",
    "        \"bool\": {\n",
    "            \"must_not\": {\n",
    "                \"match\": {\n",
    "                    \"sentence\":\"COVID-19\"\n",
    "                }\n",
    "            },\n",
    "            \"should\": {\n",
    "                \"match\": {\n",
    "                    \"sentence\": \"Hack\"\n",
    "                }\n",
    "            }\n",
    "        }\n",
    "    }\n",
    "}\n",
    "\n",
    "res = es.search(index=\"english\", body=body)\n",
    "res"
   ]
  },
  {
   "cell_type": "markdown",
   "metadata": {},
   "source": [
    "### Regular Expressions Queries"
   ]
  },
  {
   "cell_type": "code",
   "execution_count": 18,
   "metadata": {},
   "outputs": [
    {
     "data": {
      "text/plain": [
       "{'_index': 'english',\n",
       " '_type': 'sentences',\n",
       " '_id': '1',\n",
       " '_version': 9,\n",
       " 'result': 'updated',\n",
       " '_shards': {'total': 2, 'successful': 1, 'failed': 0},\n",
       " '_seq_no': 19,\n",
       " '_primary_term': 1}"
      ]
     },
     "execution_count": 18,
     "metadata": {},
     "output_type": "execute_result"
    }
   ],
   "source": [
    "# Updating our data\n",
    "\n",
    "doc_1 = {\"sentence\":\"Hack COVID-19 is amazing!\"}\n",
    "doc_2 = {\"sentence\":\"Hack-Quarantine is stunning!\"}\n",
    "doc_3 = {\"sentence\":\"Hack nCov is great!\"}\n",
    "\n",
    "es.index(index=\"english\", doc_type=\"sentences\", id=1, body=doc_1)"
   ]
  },
  {
   "cell_type": "code",
   "execution_count": 19,
   "metadata": {},
   "outputs": [
    {
     "data": {
      "text/plain": [
       "{'_index': 'english',\n",
       " '_type': 'sentences',\n",
       " '_id': '2',\n",
       " '_version': 10,\n",
       " 'result': 'updated',\n",
       " '_shards': {'total': 2, 'successful': 1, 'failed': 0},\n",
       " '_seq_no': 20,\n",
       " '_primary_term': 1}"
      ]
     },
     "execution_count": 19,
     "metadata": {},
     "output_type": "execute_result"
    }
   ],
   "source": [
    "es.index(index=\"english\", doc_type=\"sentences\", id=2, body=doc_2)"
   ]
  },
  {
   "cell_type": "code",
   "execution_count": 20,
   "metadata": {
    "scrolled": true
   },
   "outputs": [
    {
     "data": {
      "text/plain": [
       "{'_index': 'english',\n",
       " '_type': 'sentences',\n",
       " '_id': '3',\n",
       " '_version': 3,\n",
       " 'result': 'updated',\n",
       " '_shards': {'total': 2, 'successful': 1, 'failed': 0},\n",
       " '_seq_no': 21,\n",
       " '_primary_term': 1}"
      ]
     },
     "execution_count": 20,
     "metadata": {},
     "output_type": "execute_result"
    }
   ],
   "source": [
    "es.index(index=\"english\", doc_type=\"sentences\", id=3, body=doc_3)"
   ]
  },
  {
   "cell_type": "code",
   "execution_count": 21,
   "metadata": {
    "scrolled": true
   },
   "outputs": [
    {
     "data": {
      "text/plain": [
       "{'took': 5,\n",
       " 'timed_out': False,\n",
       " '_shards': {'total': 1, 'successful': 1, 'skipped': 0, 'failed': 0},\n",
       " 'hits': {'total': {'value': 3, 'relation': 'eq'},\n",
       "  'max_score': 1.0,\n",
       "  'hits': [{'_index': 'english',\n",
       "    '_type': 'sentences',\n",
       "    '_id': '1',\n",
       "    '_score': 1.0,\n",
       "    '_source': {'sentence': 'Hack COVID-19 is amazing!'}},\n",
       "   {'_index': 'english',\n",
       "    '_type': 'sentences',\n",
       "    '_id': '2',\n",
       "    '_score': 1.0,\n",
       "    '_source': {'sentence': 'Hack-Quarantine is stunning!'}},\n",
       "   {'_index': 'english',\n",
       "    '_type': 'sentences',\n",
       "    '_id': '3',\n",
       "    '_score': 1.0,\n",
       "    '_source': {'sentence': 'Hack nCov is great!'}}]}}"
      ]
     },
     "execution_count": 21,
     "metadata": {},
     "output_type": "execute_result"
    }
   ],
   "source": [
    "# regexp query\n",
    "\n",
    "body = {\n",
    "    \"from\":0,\n",
    "    \"size\":3,\n",
    "    \"query\": {\n",
    "        \"regexp\": {\n",
    "            \"sentence\":\".*\"\n",
    "        }\n",
    "    }\n",
    "}\n",
    "\n",
    "res = es.search(index=\"english\", body=body)\n",
    "res"
   ]
  }
 ],
 "metadata": {
  "kernelspec": {
   "display_name": "Python 3",
   "language": "python",
   "name": "python3"
  },
  "language_info": {
   "codemirror_mode": {
    "name": "ipython",
    "version": 3
   },
   "file_extension": ".py",
   "mimetype": "text/x-python",
   "name": "python",
   "nbconvert_exporter": "python",
   "pygments_lexer": "ipython3",
   "version": "3.7.2"
  }
 },
 "nbformat": 4,
 "nbformat_minor": 2
}
